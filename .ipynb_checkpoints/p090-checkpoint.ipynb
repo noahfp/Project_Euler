{
 "cells": [
  {
   "cell_type": "code",
   "execution_count": 8,
   "metadata": {
    "collapsed": true
   },
   "outputs": [],
   "source": [
    "import numpy as np"
   ]
  },
  {
   "cell_type": "code",
   "execution_count": 28,
   "metadata": {},
   "outputs": [],
   "source": [
    "sols = set()\n",
    "\n",
    "def cube_constructor(sides=6, nums=[0, 1, 2, 3, 4, 5, 6, 7, 8, 9]):\n",
    "    if sides == 0:\n",
    "        yield tuple()\n",
    "    for idx, num in enumerate(nums):\n",
    "        for rest_of_cube in cube_constructor(sides=sides-1, nums=nums[idx + 1:]):\n",
    "            yield (num,) + rest_of_cube\n",
    "            \n",
    "def cube_pair_check(cube1, cube2):\n",
    "    pairs = [\n",
    "        (0, 1), (0, 4), (0, 9), \n",
    "        (1, 6), (2, 5), (3, 6), \n",
    "        (4, 9), (6, 4), (8, 1)\n",
    "    ]\n",
    "    cube1_set = set(cube1)\n",
    "    if 6 in cube1_set:\n",
    "        cube1_set.add(9)\n",
    "    if 9 in cube1_set:\n",
    "        cube1_set.add(6)\n",
    "    cube2_set = set(cube2)\n",
    "    if 6 in cube2_set:\n",
    "        cube2_set.add(9)\n",
    "    if 9 in cube2_set:\n",
    "        cube2_set.add(6)\n",
    "    \n",
    "    for (num1, num2) in pairs:\n",
    "        if not ((num1 in cube1_set) and (num2 in cube2_set)\n",
    "                or (num1 in cube2_set) and (num2 in cube1_set)):\n",
    "            return False\n",
    "    return True"
   ]
  },
  {
   "cell_type": "code",
   "execution_count": 29,
   "metadata": {
    "collapsed": true
   },
   "outputs": [],
   "source": [
    "sols = set()\n",
    "\n",
    "for cube1 in cube_constructor():\n",
    "    for cube2 in cube_constructor():\n",
    "        if cube_pair_check(cube1, cube2):\n",
    "            sols.add(tuple(sorted([cube1, cube2])))\n",
    "            \n"
   ]
  },
  {
   "cell_type": "code",
   "execution_count": 31,
   "metadata": {},
   "outputs": [
    {
     "data": {
      "text/plain": [
       "1217"
      ]
     },
     "execution_count": 31,
     "metadata": {},
     "output_type": "execute_result"
    }
   ],
   "source": [
    "len(sols)"
   ]
  },
  {
   "cell_type": "code",
   "execution_count": null,
   "metadata": {
    "collapsed": true
   },
   "outputs": [],
   "source": []
  }
 ],
 "metadata": {
  "kernelspec": {
   "display_name": "Python 3",
   "language": "python",
   "name": "python3"
  },
  "language_info": {
   "codemirror_mode": {
    "name": "ipython",
    "version": 3
   },
   "file_extension": ".py",
   "mimetype": "text/x-python",
   "name": "python",
   "nbconvert_exporter": "python",
   "pygments_lexer": "ipython3",
   "version": "3.6.1"
  }
 },
 "nbformat": 4,
 "nbformat_minor": 2
}
